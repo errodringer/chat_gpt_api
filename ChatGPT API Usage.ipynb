{
 "cells": [
  {
   "cell_type": "code",
   "execution_count": null,
   "id": "d368da72-2672-4096-9dea-286fda7149b4",
   "metadata": {},
   "outputs": [],
   "source": [
    "import openai"
   ]
  },
  {
   "cell_type": "code",
   "execution_count": null,
   "id": "f3005453-4d57-4f82-a7b9-49b14da8d6ac",
   "metadata": {},
   "outputs": [],
   "source": [
    "secret_key = open('secret_key', 'r')"
   ]
  },
  {
   "cell_type": "code",
   "execution_count": null,
   "id": "01816102-0113-455e-bb7a-974ae94610ae",
   "metadata": {},
   "outputs": [],
   "source": [
    "api_key = secret_key.read()\n",
    "secret_key.close()"
   ]
  },
  {
   "cell_type": "code",
   "execution_count": null,
   "id": "34a2b9a7-c296-439d-bf08-1b2cda0dad68",
   "metadata": {},
   "outputs": [],
   "source": [
    "openai.api_key = api_key"
   ]
  },
  {
   "cell_type": "code",
   "execution_count": null,
   "id": "bf82b9dd-1b9a-42ae-bda8-bd9ce2af2b3b",
   "metadata": {},
   "outputs": [],
   "source": [
    "messages = [{\"role\": \"system\", \"content\": \"Hola, buenos dias\"}]"
   ]
  },
  {
   "cell_type": "code",
   "execution_count": null,
   "id": "06c0dc9c-ee9d-495a-b44b-fac3ba591d31",
   "metadata": {},
   "outputs": [],
   "source": [
    "message = 'cuando se descubrio america'"
   ]
  },
  {
   "cell_type": "code",
   "execution_count": null,
   "id": "41ef607b-ae80-4c2b-b615-52734be8582b",
   "metadata": {},
   "outputs": [],
   "source": [
    "def post_message(message):\n",
    "    messages.append({\"role\": \"user\", \"content\": message})\n",
    "    chat = openai.ChatCompletion.create(model=\"gpt-3.5-turbo\", messages=messages)\n",
    "    reply = chat.choices[0].message.content\n",
    "    messages.append({\"role\": \"assistant\", \"content\": reply})\n",
    "    print(f\"ChatGPT: {reply}\")"
   ]
  },
  {
   "cell_type": "code",
   "execution_count": null,
   "id": "e43667ec-51f0-49ea-a26a-f877b344717f",
   "metadata": {},
   "outputs": [],
   "source": [
    "post_message(message)"
   ]
  },
  {
   "cell_type": "code",
   "execution_count": null,
   "id": "d3095258-d514-46e4-91a2-c343670ea888",
   "metadata": {},
   "outputs": [],
   "source": []
  }
 ],
 "metadata": {
  "kernelspec": {
   "display_name": "Python 3 (ipykernel)",
   "language": "python",
   "name": "python3"
  },
  "language_info": {
   "codemirror_mode": {
    "name": "ipython",
    "version": 3
   },
   "file_extension": ".py",
   "mimetype": "text/x-python",
   "name": "python",
   "nbconvert_exporter": "python",
   "pygments_lexer": "ipython3",
   "version": "3.9.0"
  }
 },
 "nbformat": 4,
 "nbformat_minor": 5
}
